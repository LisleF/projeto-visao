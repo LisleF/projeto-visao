{
 "cells": [
  {
   "cell_type": "code",
   "execution_count": 1,
   "metadata": {},
   "outputs": [],
   "source": [
    "import xgboost as xgb\n",
    "from sklearn.svm import SVC\n",
    "from sklearn.ensemble import RandomForestClassifier\n",
    "from sklearn.neighbors import KNeighborsClassifier\n",
    "\n",
    "from sklearn.model_selection import cross_val_score, train_test_split, GridSearchCV, KFold, RandomizedSearchCV\n",
    "from sklearn.metrics import precision_score, recall_score, accuracy_score, cohen_kappa_score, confusion_matrix\n",
    "\n",
    "import pandas as pd\n",
    "import numpy as np\n",
    "import cv2\n",
    "\n",
    "import os, glob\n",
    "\n",
    "from joblib import dump, load"
   ]
  },
  {
   "cell_type": "code",
   "execution_count": null,
   "metadata": {},
   "outputs": [],
   "source": [
    "def printProgressBar (iteration, total, prefix = '', suffix = '', decimals = 1, length = 100, fill = '█'):\n",
    "    \"\"\"\n",
    "    Call in a loop to create terminal progress bar\n",
    "    @params:\n",
    "        iteration   - Required  : current iteration (Int)\n",
    "        total       - Required  : total iterations (Int)\n",
    "        prefix      - Optional  : prefix string (Str)\n",
    "        suffix      - Optional  : suffix string (Str)\n",
    "        decimals    - Optional  : positive number of decimals in percent complete (Int)\n",
    "        length      - Optional  : character length of bar (Int)\n",
    "        fill        - Optional  : bar fill character (Str)\n",
    "    \"\"\"\n",
    "    percent = (\"{0:.\" + str(decimals) + \"f}\").format(100 * (iteration / float(total)))\n",
    "    filledLength = int(length * iteration // total)\n",
    "    bar = fill * filledLength + '-' * (length - filledLength)\n",
    "    print('\\r%s |%s| %s%% %s' % (prefix, bar, percent, suffix), end = '\\r')\n",
    "    # Print New Line on Complete\n",
    "    if iteration == total: \n",
    "        print()"
   ]
  },
  {
   "cell_type": "code",
   "execution_count": 2,
   "metadata": {},
   "outputs": [],
   "source": [
    "class HOG:\n",
    "\n",
    "    @staticmethod\n",
    "    def extract(img):\n",
    "        cell_size = (4, 4)\n",
    "        block_size = (16, 16)\n",
    "        nbins = 9\n",
    "        hog = cv2.HOGDescriptor(_winSize=(img.shape[1] // cell_size[1] * cell_size[1],\n",
    "                                    img.shape[0] // cell_size[0] * cell_size[0]),\n",
    "                            _blockSize=(block_size[1] * cell_size[1],\n",
    "                                        block_size[0] * cell_size[0]),\n",
    "                            _blockStride=(cell_size[1], cell_size[0]),\n",
    "                            _cellSize=(cell_size[1], cell_size[0]),\n",
    "                            _nbins=nbins)\n",
    "        h = hog.compute(img)\n",
    "        h = h.T[0]\n",
    "        return h"
   ]
  },
  {
   "cell_type": "code",
   "execution_count": null,
   "metadata": {},
   "outputs": [],
   "source": [
    "def report_best_scores(results, n_top=3):\n",
    "    for i in range(1, n_top + 1):\n",
    "        candidates = np.flatnonzero(results['rank_test_score'] == i)\n",
    "        for candidate in candidates:\n",
    "            print(\"Model with rank: {0}\".format(i))\n",
    "            print(\"Mean validation score: {0:.3f} (std: {1:.3f})\".format(\n",
    "                  results['mean_test_score'][candidate],\n",
    "                  results['std_test_score'][candidate]))\n",
    "            print(\"Parameters: {0}\".format(results['params'][candidate]))\n",
    "            print(\"\")"
   ]
  },
  {
   "cell_type": "code",
   "execution_count": null,
   "metadata": {},
   "outputs": [],
   "source": [
    "class XGBoost_Classifier:\n",
    "    \n",
    "    def __init__(self, qtd_classes, best_scores):\n",
    "        self.num_class = qtd_classes\n",
    "        self.best_scores = best_scores\n",
    "    \n",
    "    def search_model(self, X, y, grid, steps):        \n",
    "        xgb_model = xgb.XGBClassifier(objective='multi:softprob', random_state=42)\n",
    "        \n",
    "        search = RandomizedSearchCV(xgb_model, param_distributions=grid, random_state=42, n_iter=200, cv=3, verbose=1, n_jobs=1, return_train_score=True)\n",
    "\n",
    "        search.fit(X, y)\n",
    "        \n",
    "        self.best_scores(search.cv_results_, 1)\n",
    "    \n",
    "    def train_single(self, X_train, Y_train, X_test, Y_test, params, steps):\n",
    "        model = xgb.train(param, D_train, steps)\n",
    "        preds = model.predict(D_test)\n",
    "        preds = np.asarray([np.argmax(line) for line in preds])\n",
    "        acc = accuracy_score(Y_test, preds)\n",
    "        kpp = cohen_kappa_score(Y_test, preds)\n",
    "        print(\"Accuracy = {}\".format(acc))\n",
    "        print(\"Precision = {}\".format(precision_score(Y_test, preds, average='macro')))\n",
    "        print(\"Recall = {}\".format(recall_score(Y_test, preds, average='macro')))\n",
    "        print(\"Kappa = {}\".format(kpp))"
   ]
  },
  {
   "cell_type": "code",
   "execution_count": 3,
   "metadata": {},
   "outputs": [],
   "source": [
    "class SVM_Classifier:\n",
    "    \n",
    "    def __init__(self, best_scores):\n",
    "        self.best_scores = best_scores\n",
    "    \n",
    "    def search_model(self, X, y, grid):        \n",
    "        svc = SVC(probability=True)\n",
    "        \n",
    "        search = RandomizedSearchCV(svc, param_distributions=grid, random_state=42, n_iter=2, cv=3, verbose=3, n_jobs=1, return_train_score=True)\n",
    "        \n",
    "        search.fit(X, y)\n",
    "        \n",
    "        self.best_scores(search.cv_results_, 1)\n",
    "    \n",
    "    def train_single(self, X_train, Y_train, X_test, Y_test, params):\n",
    "        svc = SVC(probability=True)\n",
    "        svc.set_params(params)\n",
    "        \n",
    "        model = svc.fit(X_train, Y_train)\n",
    "        y_predicted = model.predict(X_test)\n",
    "        \n",
    "        acc = sk.metrics.accuracy_score(Y_test, y_predicted)\n",
    "        prec = sk.metrics.precision_score(Y_test, y_predicted, average=None)[1]\n",
    "        rec = sk.metrics.recall_score(Y_test, y_predicted, average=None)[1]\n",
    "        kpp = sk.metrics.cohen_kappa_score(Y_test, y_predicted)\n",
    "        print(\"Accuracy: {:.1%}\".format(acc))\n",
    "        print(\"Precision: {:.1%}\".format(prec))\n",
    "        print(\"Recall: {:.1%}\".format(rec))\n",
    "        print(\"Kappa: {:.1%}\".format(kpp))\n",
    "        "
   ]
  },
  {
   "cell_type": "code",
   "execution_count": null,
   "metadata": {},
   "outputs": [],
   "source": [
    "class KNN_Classifier:\n",
    "    \n",
    "    def __init__(self, best_scores):\n",
    "        self.best_scores = best_scores\n",
    "    \n",
    "    def search_model(self, X, y, grid):        \n",
    "        knn = KNeighborsClassifier()\n",
    "        \n",
    "        search = RandomizedSearchCV(knn, param_distributions=grid, random_state=42, n_iter=200, cv=3, verbose=1, n_jobs=1, return_train_score=True)\n",
    "        \n",
    "        search.fit(X, y)\n",
    "        \n",
    "        self.best_scores(search.cv_results_, 1)\n",
    "    \n",
    "    def train_single(self, X_train, Y_train, X_test, Y_test, params):\n",
    "        knn = KNeighborsClassifier()\n",
    "        knn.set_params(params)\n",
    "        \n",
    "        model = knn.fit(X_train, Y_train)\n",
    "        y_predicted = model.predict(X_test)\n",
    "        \n",
    "        acc = sk.metrics.accuracy_score(Y_test, y_predicted)\n",
    "        prec = sk.metrics.precision_score(Y_test, y_predicted, average=None)[1]\n",
    "        rec = sk.metrics.recall_score(Y_test, y_predicted, average=None)[1]\n",
    "        kpp = sk.metrics.cohen_kappa_score(Y_test, y_predicted)\n",
    "        print(\"Accuracy: {:.1%}\".format(acc))\n",
    "        print(\"Precision: {:.1%}\".format(prec))\n",
    "        print(\"Recall: {:.1%}\".format(rec))\n",
    "        print(\"Kappa: {:.1%}\".format(kpp))"
   ]
  },
  {
   "cell_type": "code",
   "execution_count": null,
   "metadata": {},
   "outputs": [],
   "source": [
    "class RandomForest_Classifier:\n",
    "    \n",
    "    def __init__(self, best_scores):\n",
    "        self.best_scores = best_scores\n",
    "    \n",
    "    def search_model(self, X, y, grid):        \n",
    "        rfc = RandomForestClassifier()\n",
    "        \n",
    "        search = RandomizedSearchCV(rfc, param_distributions=grid, random_state=42, n_iter=200, cv=3, verbose=1, n_jobs=1, return_train_score=True)\n",
    "        \n",
    "        search.fit(X, y)\n",
    "        \n",
    "        self.best_scores(search.cv_results_, 1)\n",
    "    \n",
    "    def train_single(self, X_train, Y_train, X_test, Y_test, params):\n",
    "        rfc = RandomForestClassifier()\n",
    "        rfc.set_params(params)\n",
    "        \n",
    "        model = rfc.fit(X_train, Y_train)\n",
    "        y_predicted = model.predict(X_test)\n",
    "        \n",
    "        acc = sk.metrics.accuracy_score(Y_test, y_predicted)\n",
    "        prec = sk.metrics.precision_score(Y_test, y_predicted, average=None)[1]\n",
    "        rec = sk.metrics.recall_score(Y_test, y_predicted, average=None)[1]\n",
    "        kpp = sk.metrics.cohen_kappa_score(Y_test, y_predicted)\n",
    "        print(\"Accuracy: {:.1%}\".format(acc))\n",
    "        print(\"Precision: {:.1%}\".format(prec))\n",
    "        print(\"Recall: {:.1%}\".format(rec))\n",
    "        print(\"Kappa: {:.1%}\".format(kpp))"
   ]
  },
  {
   "cell_type": "code",
   "execution_count": null,
   "metadata": {},
   "outputs": [],
   "source": [
    "#TODO: GausianNB"
   ]
  },
  {
   "cell_type": "markdown",
   "metadata": {},
   "source": [
    "### Base"
   ]
  },
  {
   "cell_type": "markdown",
   "metadata": {},
   "source": [
    "- apresenta 98 imagens corrompidas"
   ]
  },
  {
   "cell_type": "code",
   "execution_count": 4,
   "metadata": {},
   "outputs": [
    {
     "ename": "error",
     "evalue": "OpenCV(4.3.0) C:\\projects\\opencv-python\\opencv\\modules\\core\\src\\matrix.cpp:235: error: (-215:Assertion failed) s >= 0 in function 'cv::setSize'\n",
     "output_type": "error",
     "traceback": [
      "\u001b[1;31m---------------------------------------------------------------------------\u001b[0m",
      "\u001b[1;31merror\u001b[0m                                     Traceback (most recent call last)",
      "\u001b[1;32m<ipython-input-4-9fcbdde19ba3>\u001b[0m in \u001b[0;36m<module>\u001b[1;34m\u001b[0m\n\u001b[0;32m     15\u001b[0m \u001b[1;33m\u001b[0m\u001b[0m\n\u001b[0;32m     16\u001b[0m         \u001b[1;32mif\u001b[0m \u001b[0mimage\u001b[0m \u001b[1;32mis\u001b[0m \u001b[1;32mnot\u001b[0m \u001b[1;32mNone\u001b[0m\u001b[1;33m:\u001b[0m\u001b[1;33m\u001b[0m\u001b[1;33m\u001b[0m\u001b[0m\n\u001b[1;32m---> 17\u001b[1;33m             \u001b[0mfeature\u001b[0m \u001b[1;33m=\u001b[0m \u001b[0mHOG\u001b[0m\u001b[1;33m.\u001b[0m\u001b[0mextract\u001b[0m\u001b[1;33m(\u001b[0m\u001b[0mimage\u001b[0m\u001b[1;33m)\u001b[0m\u001b[1;33m\u001b[0m\u001b[1;33m\u001b[0m\u001b[0m\n\u001b[0m\u001b[0;32m     18\u001b[0m \u001b[1;33m\u001b[0m\u001b[0m\n\u001b[0;32m     19\u001b[0m             \u001b[1;32mif\u001b[0m \u001b[0mfeature\u001b[0m\u001b[1;33m.\u001b[0m\u001b[0mshape\u001b[0m\u001b[1;33m[\u001b[0m\u001b[1;36m0\u001b[0m\u001b[1;33m]\u001b[0m \u001b[1;33m>\u001b[0m \u001b[0mmax_size\u001b[0m\u001b[1;33m:\u001b[0m\u001b[1;33m\u001b[0m\u001b[1;33m\u001b[0m\u001b[0m\n",
      "\u001b[1;32m<ipython-input-2-8ddc4b37e7dc>\u001b[0m in \u001b[0;36mextract\u001b[1;34m(img)\u001b[0m\n\u001b[0;32m     13\u001b[0m                             \u001b[0m_cellSize\u001b[0m\u001b[1;33m=\u001b[0m\u001b[1;33m(\u001b[0m\u001b[0mcell_size\u001b[0m\u001b[1;33m[\u001b[0m\u001b[1;36m1\u001b[0m\u001b[1;33m]\u001b[0m\u001b[1;33m,\u001b[0m \u001b[0mcell_size\u001b[0m\u001b[1;33m[\u001b[0m\u001b[1;36m0\u001b[0m\u001b[1;33m]\u001b[0m\u001b[1;33m)\u001b[0m\u001b[1;33m,\u001b[0m\u001b[1;33m\u001b[0m\u001b[1;33m\u001b[0m\u001b[0m\n\u001b[0;32m     14\u001b[0m                             _nbins=nbins)\n\u001b[1;32m---> 15\u001b[1;33m         \u001b[0mh\u001b[0m \u001b[1;33m=\u001b[0m \u001b[0mhog\u001b[0m\u001b[1;33m.\u001b[0m\u001b[0mcompute\u001b[0m\u001b[1;33m(\u001b[0m\u001b[0mimg\u001b[0m\u001b[1;33m)\u001b[0m\u001b[1;33m\u001b[0m\u001b[1;33m\u001b[0m\u001b[0m\n\u001b[0m\u001b[0;32m     16\u001b[0m         \u001b[0mh\u001b[0m \u001b[1;33m=\u001b[0m \u001b[0mh\u001b[0m\u001b[1;33m.\u001b[0m\u001b[0mT\u001b[0m\u001b[1;33m[\u001b[0m\u001b[1;36m0\u001b[0m\u001b[1;33m]\u001b[0m\u001b[1;33m\u001b[0m\u001b[1;33m\u001b[0m\u001b[0m\n\u001b[0;32m     17\u001b[0m         \u001b[1;32mreturn\u001b[0m \u001b[0mh\u001b[0m\u001b[1;33m\u001b[0m\u001b[1;33m\u001b[0m\u001b[0m\n",
      "\u001b[1;31merror\u001b[0m: OpenCV(4.3.0) C:\\projects\\opencv-python\\opencv\\modules\\core\\src\\matrix.cpp:235: error: (-215:Assertion failed) s >= 0 in function 'cv::setSize'\n"
     ]
    }
   ],
   "source": [
    "BASE_PATH = \"D:\\\\Carlos-NCA\\\\Documents\\\\Faculdade\\\\Visao\\\\dataset\\\\dataset_updated\\\\training_set\\\\\"\n",
    "labels = []\n",
    "\n",
    "folders = os.listdir(BASE_PATH)\n",
    "labels = folders\n",
    "\n",
    "features = []\n",
    "labels = []\n",
    "error_images = []\n",
    "max_size = 0\n",
    "for f in folders:\n",
    "    images = glob.glob(BASE_PATH + f + \"\\\\*.*\")    \n",
    "    for img in images:\n",
    "        image = cv2.imread(img)\n",
    "        \n",
    "        if image is not None:\n",
    "            feature = HOG.extract(image)\n",
    "            \n",
    "            if feature.shape[0] > max_size:\n",
    "                max_size = feature.shape[0]\n",
    "                \n",
    "#             features.append(feature)\n",
    "#             labels.append(folders.index(f))\n",
    "        else:\n",
    "            error_images.append(img)"
   ]
  },
  {
   "cell_type": "code",
   "execution_count": null,
   "metadata": {},
   "outputs": [],
   "source": [
    "print(max_size)"
   ]
  },
  {
   "cell_type": "code",
   "execution_count": null,
   "metadata": {},
   "outputs": [],
   "source": [
    "features = np.array(n_features)\n",
    "labels = np.array(labels)"
   ]
  },
  {
   "cell_type": "code",
   "execution_count": null,
   "metadata": {},
   "outputs": [],
   "source": [
    "print(features.shape)"
   ]
  },
  {
   "cell_type": "code",
   "execution_count": null,
   "metadata": {},
   "outputs": [],
   "source": [
    "SVM = SVM_Classifier(report_best_scores)"
   ]
  },
  {
   "cell_type": "code",
   "execution_count": null,
   "metadata": {},
   "outputs": [],
   "source": [
    "grid = {'C': [1, 2, 5, 10, 100, 1000], 'gamma': [0.5, 0.1, 0.01, 0.001, 0.0001], 'kernel': ['linear', 'rbf', 'sigmoid']}"
   ]
  },
  {
   "cell_type": "code",
   "execution_count": null,
   "metadata": {},
   "outputs": [],
   "source": [
    "SVM.search_model(features, labels, grid)"
   ]
  }
 ],
 "metadata": {
  "kernelspec": {
   "display_name": "Python 3.7.6 64-bit",
   "language": "python",
   "name": "python37664bitb4f3ebf6a3b24c139e8bc3852a08c126"
  },
  "language_info": {
   "codemirror_mode": {
    "name": "ipython",
    "version": 3
   },
   "file_extension": ".py",
   "mimetype": "text/x-python",
   "name": "python",
   "nbconvert_exporter": "python",
   "pygments_lexer": "ipython3",
   "version": "3.7.6"
  }
 },
 "nbformat": 4,
 "nbformat_minor": 4
}
